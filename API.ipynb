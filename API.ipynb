{
 "cells": [
  {
   "cell_type": "code",
   "execution_count": 1,
   "metadata": {},
   "outputs": [],
   "source": [
    "import requests"
   ]
  },
  {
   "cell_type": "code",
   "execution_count": 17,
   "metadata": {},
   "outputs": [],
   "source": [
    "token = \"EAAPlujGzWoQBABMW1URZBSccSuylYzfHKDqkHW4cC8xSduAQCMQdsBRAtk6a7behYcT1VV2wRYm1G71JaBfLwy84LwhQwZBxokd7W3EL6ZB9mKkOWxvuoKSKKEkXbQ2rOYjSTnRxu56v4dSj2vMsPuQQuMayvSClMyoyZCbbqZB9ZAsgqAGsVZADZBbjamLWpY8ZD\""
   ]
  },
  {
   "cell_type": "code",
   "execution_count": 18,
   "metadata": {},
   "outputs": [],
   "source": [
    "fields = \"id,name,posts\""
   ]
  },
  {
   "cell_type": "code",
   "execution_count": 23,
   "metadata": {},
   "outputs": [],
   "source": [
    "url = f\"https://graph.facebook.com/v5.0/me?fields={fields}&access_token={token}/\""
   ]
  },
  {
   "cell_type": "code",
   "execution_count": 24,
   "metadata": {},
   "outputs": [],
   "source": [
    "data = requests.get(url)"
   ]
  },
  {
   "cell_type": "code",
   "execution_count": 25,
   "metadata": {},
   "outputs": [
    {
     "data": {
      "text/plain": [
       "200"
      ]
     },
     "execution_count": 25,
     "metadata": {},
     "output_type": "execute_result"
    }
   ],
   "source": [
    "data.status_code"
   ]
  },
  {
   "cell_type": "code",
   "execution_count": 27,
   "metadata": {},
   "outputs": [
    {
     "name": "stdout",
     "output_type": "stream",
     "text": [
      "['__attrs__', '__bool__', '__class__', '__delattr__', '__dict__', '__dir__', '__doc__', '__enter__', '__eq__', '__exit__', '__format__', '__ge__', '__getattribute__', '__getstate__', '__gt__', '__hash__', '__init__', '__init_subclass__', '__iter__', '__le__', '__lt__', '__module__', '__ne__', '__new__', '__nonzero__', '__reduce__', '__reduce_ex__', '__repr__', '__setattr__', '__setstate__', '__sizeof__', '__str__', '__subclasshook__', '__weakref__', '_content', '_content_consumed', '_next', 'apparent_encoding', 'close', 'connection', 'content', 'cookies', 'elapsed', 'encoding', 'headers', 'history', 'is_permanent_redirect', 'is_redirect', 'iter_content', 'iter_lines', 'json', 'links', 'next', 'ok', 'raise_for_status', 'raw', 'reason', 'request', 'status_code', 'text', 'url']\n"
     ]
    }
   ],
   "source": [
    "print(dir(data))"
   ]
  },
  {
   "cell_type": "code",
   "execution_count": 28,
   "metadata": {},
   "outputs": [
    {
     "data": {
      "text/plain": [
       "'https://graph.facebook.com/v5.0/me?fields=id,name,posts&access_token=EAAPlujGzWoQBABMW1URZBSccSuylYzfHKDqkHW4cC8xSduAQCMQdsBRAtk6a7behYcT1VV2wRYm1G71JaBfLwy84LwhQwZBxokd7W3EL6ZB9mKkOWxvuoKSKKEkXbQ2rOYjSTnRxu56v4dSj2vMsPuQQuMayvSClMyoyZCbbqZB9ZAsgqAGsVZADZBbjamLWpY8ZD/'"
      ]
     },
     "execution_count": 28,
     "metadata": {},
     "output_type": "execute_result"
    }
   ],
   "source": [
    "data.url"
   ]
  },
  {
   "cell_type": "code",
   "execution_count": 29,
   "metadata": {},
   "outputs": [
    {
     "data": {
      "text/plain": [
       "'{\"id\":\"2761818107264953\",\"name\":\"Simran Grover\",\"posts\":{\"data\":[{\"created_time\":\"2019-10-13T02:32:53+0000\",\"id\":\"2761818107264953_2536022416511191\"},{\"created_time\":\"2019-09-20T06:27:15+0000\",\"id\":\"2761818107264953_2485729834873783\"},{\"message\":\"Hey babe \\\\u2665\\\\ufe0f Muskan Batra birthday soon\\\\ud83e\\\\udd29\",\"created_time\":\"2019-08-19T17:06:58+0000\",\"id\":\"2761818107264953_2428307400616027\"},{\"created_time\":\"2019-08-18T19:33:54+0000\",\"id\":\"2761818107264953_2426749554105145\"},{\"created_time\":\"2019-07-28T02:57:25+0000\",\"id\":\"2761818107264953_2390061257773975\"},{\"created_time\":\"2019-07-15T05:36:27+0000\",\"id\":\"2761818107264953_2367914416655326\"},{\"message\":\"Now only this picture is left Sonam Grover\\\\ud83e\\\\udd23\",\"created_time\":\"2019-05-28T15:40:57+0000\",\"id\":\"2761818107264953_2285031841610251\"},{\"created_time\":\"2019-05-26T10:14:05+0000\",\"id\":\"2761818107264953_2281341411979294\"},{\"created_time\":\"2019-05-25T09:55:35+0000\",\"id\":\"2761818107264953_2279649135481855\"},{\"created_time\":\"2019-05-03T13:56:42+0000\",\"id\":\"2761818107264953_2244574925655943\"},{\"created_time\":\"2019-04-23T18:22:52+0000\",\"id\":\"2761818107264953_2229682317145204\"},{\"created_time\":\"2019-03-31T08:02:22+0000\",\"id\":\"2761818107264953_2194347604012009\"},{\"created_time\":\"2019-03-07T18:42:12+0000\",\"id\":\"2761818107264953_2161371100642993\"},{\"created_time\":\"2019-02-21T17:12:29+0000\",\"id\":\"2761818107264953_2140903952689708\"},{\"created_time\":\"2019-02-12T14:58:08+0000\",\"id\":\"2761818107264953_2126090164171087\"},{\"created_time\":\"2019-01-30T13:35:44+0000\",\"id\":\"2761818107264953_2106467709466666\"},{\"message\":\"Nobody really has its \\\\\"all\\\\\"  whatever you do have thats the \\\\\"all\\\\\" you need\",\"created_time\":\"2019-01-11T15:17:11+0000\",\"id\":\"2761818107264953_2077900658990038\"},{\"created_time\":\"2018-12-26T18:40:22+0000\",\"id\":\"2761818107264953_2052595431520561\"},{\"message\":\"#Diwali2k18\",\"created_time\":\"2018-11-08T08:48:56+0000\",\"id\":\"2761818107264953_1978965222216916\"},{\"created_time\":\"2018-10-07T20:23:24+0000\",\"id\":\"2761818107264953_1927601244019981\"},{\"created_time\":\"2018-06-24T07:46:23+0000\",\"id\":\"2761818107264953_1762328083880632\"},{\"message\":\"We don\\'t laugh bcz we are happy. We are happy bcz we laugh.\\\\n     - William James\",\"created_time\":\"2018-04-11T17:08:10+0000\",\"id\":\"2761818107264953_1677852308994877\"},{\"created_time\":\"2018-03-23T16:14:17+0000\",\"id\":\"2761818107264953_1655603364553105\"},{\"message\":\"The words that enlighten the soul are more precious than jewels.\\\\n-Hazrat Inayat Khan\",\"created_time\":\"2018-01-23T11:50:36+0000\",\"id\":\"2761818107264953_1586111301502312\"}],\"paging\":{\"previous\":\"https:\\\\/\\\\/graph.facebook.com\\\\/v5.0\\\\/2761818107264953\\\\/posts?since=1570933973&access_token=EAAPlujGzWoQBABMW1URZBSccSuylYzfHKDqkHW4cC8xSduAQCMQdsBRAtk6a7behYcT1VV2wRYm1G71JaBfLwy84LwhQwZBxokd7W3EL6ZB9mKkOWxvuoKSKKEkXbQ2rOYjSTnRxu56v4dSj2vMsPuQQuMayvSClMyoyZCbbqZB9ZAsgqAGsVZADZBbjamLWpY8ZD\\\\u00252F&limit=25&__paging_token=enc_AdCa2PTwRAHRzUVbflFQezpjT4EDnj0AmJzb38jCvGqq7U7DOwrjwEHIQOlDj9CfM6jl5g1p6wGwQkcnNTjLTtMzAASenrdHfgpiOV33tvKp5AZDZD&__previous=1\",\"next\":\"https:\\\\/\\\\/graph.facebook.com\\\\/v5.0\\\\/2761818107264953\\\\/posts?access_token=EAAPlujGzWoQBABMW1URZBSccSuylYzfHKDqkHW4cC8xSduAQCMQdsBRAtk6a7behYcT1VV2wRYm1G71JaBfLwy84LwhQwZBxokd7W3EL6ZB9mKkOWxvuoKSKKEkXbQ2rOYjSTnRxu56v4dSj2vMsPuQQuMayvSClMyoyZCbbqZB9ZAsgqAGsVZADZBbjamLWpY8ZD\\\\u00252F&limit=25&until=1516708236&__paging_token=enc_AdDQBSiCGZCHURjV1ffIPmp55jrRrXklk2dh6jTxN5zCa7Vigqpvf49FcZBZApZBTMiiZBextygUPQyDKto9Vvianjo2qbZBxRCRTLJOFKYgOuJimfIQZDZD\"}}}'"
      ]
     },
     "execution_count": 29,
     "metadata": {},
     "output_type": "execute_result"
    }
   ],
   "source": [
    "data.text"
   ]
  },
  {
   "cell_type": "code",
   "execution_count": 30,
   "metadata": {},
   "outputs": [],
   "source": [
    "import json"
   ]
  },
  {
   "cell_type": "code",
   "execution_count": 32,
   "metadata": {},
   "outputs": [],
   "source": [
    "data = data.json()"
   ]
  },
  {
   "cell_type": "code",
   "execution_count": 35,
   "metadata": {},
   "outputs": [
    {
     "data": {
      "text/plain": [
       "{'id': '2761818107264953',\n",
       " 'name': 'Simran Grover',\n",
       " 'posts': {'data': [{'created_time': '2019-10-13T02:32:53+0000',\n",
       "    'id': '2761818107264953_2536022416511191'},\n",
       "   {'created_time': '2019-09-20T06:27:15+0000',\n",
       "    'id': '2761818107264953_2485729834873783'},\n",
       "   {'message': 'Hey babe ♥️ Muskan Batra birthday soon🤩',\n",
       "    'created_time': '2019-08-19T17:06:58+0000',\n",
       "    'id': '2761818107264953_2428307400616027'},\n",
       "   {'created_time': '2019-08-18T19:33:54+0000',\n",
       "    'id': '2761818107264953_2426749554105145'},\n",
       "   {'created_time': '2019-07-28T02:57:25+0000',\n",
       "    'id': '2761818107264953_2390061257773975'},\n",
       "   {'created_time': '2019-07-15T05:36:27+0000',\n",
       "    'id': '2761818107264953_2367914416655326'},\n",
       "   {'message': 'Now only this picture is left Sonam Grover🤣',\n",
       "    'created_time': '2019-05-28T15:40:57+0000',\n",
       "    'id': '2761818107264953_2285031841610251'},\n",
       "   {'created_time': '2019-05-26T10:14:05+0000',\n",
       "    'id': '2761818107264953_2281341411979294'},\n",
       "   {'created_time': '2019-05-25T09:55:35+0000',\n",
       "    'id': '2761818107264953_2279649135481855'},\n",
       "   {'created_time': '2019-05-03T13:56:42+0000',\n",
       "    'id': '2761818107264953_2244574925655943'},\n",
       "   {'created_time': '2019-04-23T18:22:52+0000',\n",
       "    'id': '2761818107264953_2229682317145204'},\n",
       "   {'created_time': '2019-03-31T08:02:22+0000',\n",
       "    'id': '2761818107264953_2194347604012009'},\n",
       "   {'created_time': '2019-03-07T18:42:12+0000',\n",
       "    'id': '2761818107264953_2161371100642993'},\n",
       "   {'created_time': '2019-02-21T17:12:29+0000',\n",
       "    'id': '2761818107264953_2140903952689708'},\n",
       "   {'created_time': '2019-02-12T14:58:08+0000',\n",
       "    'id': '2761818107264953_2126090164171087'},\n",
       "   {'created_time': '2019-01-30T13:35:44+0000',\n",
       "    'id': '2761818107264953_2106467709466666'},\n",
       "   {'message': 'Nobody really has its \"all\"  whatever you do have thats the \"all\" you need',\n",
       "    'created_time': '2019-01-11T15:17:11+0000',\n",
       "    'id': '2761818107264953_2077900658990038'},\n",
       "   {'created_time': '2018-12-26T18:40:22+0000',\n",
       "    'id': '2761818107264953_2052595431520561'},\n",
       "   {'message': '#Diwali2k18',\n",
       "    'created_time': '2018-11-08T08:48:56+0000',\n",
       "    'id': '2761818107264953_1978965222216916'},\n",
       "   {'created_time': '2018-10-07T20:23:24+0000',\n",
       "    'id': '2761818107264953_1927601244019981'},\n",
       "   {'created_time': '2018-06-24T07:46:23+0000',\n",
       "    'id': '2761818107264953_1762328083880632'},\n",
       "   {'message': \"We don't laugh bcz we are happy. We are happy bcz we laugh.\\n     - William James\",\n",
       "    'created_time': '2018-04-11T17:08:10+0000',\n",
       "    'id': '2761818107264953_1677852308994877'},\n",
       "   {'created_time': '2018-03-23T16:14:17+0000',\n",
       "    'id': '2761818107264953_1655603364553105'},\n",
       "   {'message': 'The words that enlighten the soul are more precious than jewels.\\n-Hazrat Inayat Khan',\n",
       "    'created_time': '2018-01-23T11:50:36+0000',\n",
       "    'id': '2761818107264953_1586111301502312'}],\n",
       "  'paging': {'previous': 'https://graph.facebook.com/v5.0/2761818107264953/posts?since=1570933973&access_token=EAAPlujGzWoQBABMW1URZBSccSuylYzfHKDqkHW4cC8xSduAQCMQdsBRAtk6a7behYcT1VV2wRYm1G71JaBfLwy84LwhQwZBxokd7W3EL6ZB9mKkOWxvuoKSKKEkXbQ2rOYjSTnRxu56v4dSj2vMsPuQQuMayvSClMyoyZCbbqZB9ZAsgqAGsVZADZBbjamLWpY8ZD%2F&limit=25&__paging_token=enc_AdCa2PTwRAHRzUVbflFQezpjT4EDnj0AmJzb38jCvGqq7U7DOwrjwEHIQOlDj9CfM6jl5g1p6wGwQkcnNTjLTtMzAASenrdHfgpiOV33tvKp5AZDZD&__previous=1',\n",
       "   'next': 'https://graph.facebook.com/v5.0/2761818107264953/posts?access_token=EAAPlujGzWoQBABMW1URZBSccSuylYzfHKDqkHW4cC8xSduAQCMQdsBRAtk6a7behYcT1VV2wRYm1G71JaBfLwy84LwhQwZBxokd7W3EL6ZB9mKkOWxvuoKSKKEkXbQ2rOYjSTnRxu56v4dSj2vMsPuQQuMayvSClMyoyZCbbqZB9ZAsgqAGsVZADZBbjamLWpY8ZD%2F&limit=25&until=1516708236&__paging_token=enc_AdDQBSiCGZCHURjV1ffIPmp55jrRrXklk2dh6jTxN5zCa7Vigqpvf49FcZBZApZBTMiiZBextygUPQyDKto9Vvianjo2qbZBxRCRTLJOFKYgOuJimfIQZDZD'}}}"
      ]
     },
     "execution_count": 35,
     "metadata": {},
     "output_type": "execute_result"
    }
   ],
   "source": [
    "data"
   ]
  },
  {
   "cell_type": "code",
   "execution_count": 36,
   "metadata": {},
   "outputs": [
    {
     "name": "stdout",
     "output_type": "stream",
     "text": [
      "{'id': '2761818107264953', 'name': 'Simran Grover', 'posts': {'data': [{'created_time': '2019-10-13T02:32:53+0000', 'id': '2761818107264953_2536022416511191'}, {'created_time': '2019-09-20T06:27:15+0000', 'id': '2761818107264953_2485729834873783'}, {'message': 'Hey babe ♥️ Muskan Batra birthday soon🤩', 'created_time': '2019-08-19T17:06:58+0000', 'id': '2761818107264953_2428307400616027'}, {'created_time': '2019-08-18T19:33:54+0000', 'id': '2761818107264953_2426749554105145'}, {'created_time': '2019-07-28T02:57:25+0000', 'id': '2761818107264953_2390061257773975'}, {'created_time': '2019-07-15T05:36:27+0000', 'id': '2761818107264953_2367914416655326'}, {'message': 'Now only this picture is left Sonam Grover🤣', 'created_time': '2019-05-28T15:40:57+0000', 'id': '2761818107264953_2285031841610251'}, {'created_time': '2019-05-26T10:14:05+0000', 'id': '2761818107264953_2281341411979294'}, {'created_time': '2019-05-25T09:55:35+0000', 'id': '2761818107264953_2279649135481855'}, {'created_time': '2019-05-03T13:56:42+0000', 'id': '2761818107264953_2244574925655943'}, {'created_time': '2019-04-23T18:22:52+0000', 'id': '2761818107264953_2229682317145204'}, {'created_time': '2019-03-31T08:02:22+0000', 'id': '2761818107264953_2194347604012009'}, {'created_time': '2019-03-07T18:42:12+0000', 'id': '2761818107264953_2161371100642993'}, {'created_time': '2019-02-21T17:12:29+0000', 'id': '2761818107264953_2140903952689708'}, {'created_time': '2019-02-12T14:58:08+0000', 'id': '2761818107264953_2126090164171087'}, {'created_time': '2019-01-30T13:35:44+0000', 'id': '2761818107264953_2106467709466666'}, {'message': 'Nobody really has its \"all\"  whatever you do have thats the \"all\" you need', 'created_time': '2019-01-11T15:17:11+0000', 'id': '2761818107264953_2077900658990038'}, {'created_time': '2018-12-26T18:40:22+0000', 'id': '2761818107264953_2052595431520561'}, {'message': '#Diwali2k18', 'created_time': '2018-11-08T08:48:56+0000', 'id': '2761818107264953_1978965222216916'}, {'created_time': '2018-10-07T20:23:24+0000', 'id': '2761818107264953_1927601244019981'}, {'created_time': '2018-06-24T07:46:23+0000', 'id': '2761818107264953_1762328083880632'}, {'message': \"We don't laugh bcz we are happy. We are happy bcz we laugh.\\n     - William James\", 'created_time': '2018-04-11T17:08:10+0000', 'id': '2761818107264953_1677852308994877'}, {'created_time': '2018-03-23T16:14:17+0000', 'id': '2761818107264953_1655603364553105'}, {'message': 'The words that enlighten the soul are more precious than jewels.\\n-Hazrat Inayat Khan', 'created_time': '2018-01-23T11:50:36+0000', 'id': '2761818107264953_1586111301502312'}], 'paging': {'previous': 'https://graph.facebook.com/v5.0/2761818107264953/posts?since=1570933973&access_token=EAAPlujGzWoQBABMW1URZBSccSuylYzfHKDqkHW4cC8xSduAQCMQdsBRAtk6a7behYcT1VV2wRYm1G71JaBfLwy84LwhQwZBxokd7W3EL6ZB9mKkOWxvuoKSKKEkXbQ2rOYjSTnRxu56v4dSj2vMsPuQQuMayvSClMyoyZCbbqZB9ZAsgqAGsVZADZBbjamLWpY8ZD%2F&limit=25&__paging_token=enc_AdCa2PTwRAHRzUVbflFQezpjT4EDnj0AmJzb38jCvGqq7U7DOwrjwEHIQOlDj9CfM6jl5g1p6wGwQkcnNTjLTtMzAASenrdHfgpiOV33tvKp5AZDZD&__previous=1', 'next': 'https://graph.facebook.com/v5.0/2761818107264953/posts?access_token=EAAPlujGzWoQBABMW1URZBSccSuylYzfHKDqkHW4cC8xSduAQCMQdsBRAtk6a7behYcT1VV2wRYm1G71JaBfLwy84LwhQwZBxokd7W3EL6ZB9mKkOWxvuoKSKKEkXbQ2rOYjSTnRxu56v4dSj2vMsPuQQuMayvSClMyoyZCbbqZB9ZAsgqAGsVZADZBbjamLWpY8ZD%2F&limit=25&until=1516708236&__paging_token=enc_AdDQBSiCGZCHURjV1ffIPmp55jrRrXklk2dh6jTxN5zCa7Vigqpvf49FcZBZApZBTMiiZBextygUPQyDKto9Vvianjo2qbZBxRCRTLJOFKYgOuJimfIQZDZD'}}}\n"
     ]
    }
   ],
   "source": [
    "print(data)"
   ]
  },
  {
   "cell_type": "code",
   "execution_count": 40,
   "metadata": {},
   "outputs": [
    {
     "data": {
      "text/plain": [
       "'Now only this picture is left Sonam Grover🤣'"
      ]
     },
     "execution_count": 40,
     "metadata": {},
     "output_type": "execute_result"
    }
   ],
   "source": [
    "data['posts']['data'][6]['message']"
   ]
  },
  {
   "cell_type": "code",
   "execution_count": 41,
   "metadata": {},
   "outputs": [
    {
     "data": {
      "text/plain": [
       "3"
      ]
     },
     "execution_count": 41,
     "metadata": {},
     "output_type": "execute_result"
    }
   ],
   "source": [
    "len(data)"
   ]
  },
  {
   "cell_type": "code",
   "execution_count": 43,
   "metadata": {},
   "outputs": [
    {
     "data": {
      "text/plain": [
       "24"
      ]
     },
     "execution_count": 43,
     "metadata": {},
     "output_type": "execute_result"
    }
   ],
   "source": [
    "len(data['posts']['data'])"
   ]
  },
  {
   "cell_type": "code",
   "execution_count": 47,
   "metadata": {},
   "outputs": [
    {
     "name": "stdout",
     "output_type": "stream",
     "text": [
      "\n",
      "Created time :  2019-10-13T02:32:53+0000\n",
      "\n",
      "Created time :  2019-09-20T06:27:15+0000\n",
      "\n",
      "Created time :  2019-08-19T17:06:58+0000\n",
      "Message :  Hey babe ♥️ Muskan Batra birthday soon🤩\n",
      "\n",
      "Created time :  2019-08-18T19:33:54+0000\n",
      "\n",
      "Created time :  2019-07-28T02:57:25+0000\n",
      "\n",
      "Created time :  2019-07-15T05:36:27+0000\n",
      "\n",
      "Created time :  2019-05-28T15:40:57+0000\n",
      "Message :  Now only this picture is left Sonam Grover🤣\n",
      "\n",
      "Created time :  2019-05-26T10:14:05+0000\n",
      "\n",
      "Created time :  2019-05-25T09:55:35+0000\n",
      "\n",
      "Created time :  2019-05-03T13:56:42+0000\n",
      "\n",
      "Created time :  2019-04-23T18:22:52+0000\n",
      "\n",
      "Created time :  2019-03-31T08:02:22+0000\n",
      "\n",
      "Created time :  2019-03-07T18:42:12+0000\n",
      "\n",
      "Created time :  2019-02-21T17:12:29+0000\n",
      "\n",
      "Created time :  2019-02-12T14:58:08+0000\n",
      "\n",
      "Created time :  2019-01-30T13:35:44+0000\n",
      "\n",
      "Created time :  2019-01-11T15:17:11+0000\n",
      "Message :  Nobody really has its \"all\"  whatever you do have thats the \"all\" you need\n",
      "\n",
      "Created time :  2018-12-26T18:40:22+0000\n",
      "\n",
      "Created time :  2018-11-08T08:48:56+0000\n",
      "Message :  #Diwali2k18\n",
      "\n",
      "Created time :  2018-10-07T20:23:24+0000\n",
      "\n",
      "Created time :  2018-06-24T07:46:23+0000\n",
      "\n",
      "Created time :  2018-04-11T17:08:10+0000\n",
      "Message :  We don't laugh bcz we are happy. We are happy bcz we laugh.\n",
      "     - William James\n",
      "\n",
      "Created time :  2018-03-23T16:14:17+0000\n",
      "\n",
      "Created time :  2018-01-23T11:50:36+0000\n",
      "Message :  The words that enlighten the soul are more precious than jewels.\n",
      "-Hazrat Inayat Khan\n"
     ]
    }
   ],
   "source": [
    "for i in data['posts']['data']:\n",
    "    print(\"\\nCreated time : \",i['created_time'])\n",
    "    if i.get('message'):\n",
    "        print(\"Message : \",i['message'])"
   ]
  },
  {
   "cell_type": "markdown",
   "metadata": {},
   "source": [
    "## Weather API"
   ]
  },
  {
   "cell_type": "code",
   "execution_count": 48,
   "metadata": {},
   "outputs": [],
   "source": [
    "token = \"4d9de1f21d7daf67973b53bbaf288521\""
   ]
  },
  {
   "cell_type": "code",
   "execution_count": 49,
   "metadata": {},
   "outputs": [
    {
     "name": "stdout",
     "output_type": "stream",
     "text": [
      "Enter name of city ? delhi\n"
     ]
    }
   ],
   "source": [
    "place = input(\"Enter name of city ? \")"
   ]
  },
  {
   "cell_type": "code",
   "execution_count": 52,
   "metadata": {},
   "outputs": [],
   "source": [
    "url = f\"https://api.openweathermap.org/data/2.5/weather?q={place}&appid={token}\""
   ]
  },
  {
   "cell_type": "code",
   "execution_count": 53,
   "metadata": {},
   "outputs": [],
   "source": [
    "data = requests.get(url)"
   ]
  },
  {
   "cell_type": "code",
   "execution_count": 54,
   "metadata": {},
   "outputs": [
    {
     "data": {
      "text/plain": [
       "200"
      ]
     },
     "execution_count": 54,
     "metadata": {},
     "output_type": "execute_result"
    }
   ],
   "source": [
    "data.status_code"
   ]
  },
  {
   "cell_type": "code",
   "execution_count": 55,
   "metadata": {},
   "outputs": [
    {
     "data": {
      "text/plain": [
       "<Response [200]>"
      ]
     },
     "execution_count": 55,
     "metadata": {},
     "output_type": "execute_result"
    }
   ],
   "source": [
    "data"
   ]
  },
  {
   "cell_type": "code",
   "execution_count": 56,
   "metadata": {},
   "outputs": [
    {
     "data": {
      "text/plain": [
       "'{\"coord\":{\"lon\":77.22,\"lat\":28.67},\"weather\":[{\"id\":711,\"main\":\"Smoke\",\"description\":\"smoke\",\"icon\":\"50d\"}],\"base\":\"stations\",\"main\":{\"temp\":291.22,\"feels_like\":289.7,\"temp_min\":290.15,\"temp_max\":292.59,\"pressure\":1019,\"humidity\":63},\"visibility\":1500,\"wind\":{\"speed\":2.6,\"deg\":30},\"clouds\":{\"all\":20},\"dt\":1580281678,\"sys\":{\"type\":1,\"id\":9165,\"country\":\"IN\",\"sunrise\":1580262072,\"sunset\":1580300807},\"timezone\":19800,\"id\":1273294,\"name\":\"Delhi\",\"cod\":200}'"
      ]
     },
     "execution_count": 56,
     "metadata": {},
     "output_type": "execute_result"
    }
   ],
   "source": [
    "data.text"
   ]
  },
  {
   "cell_type": "code",
   "execution_count": 61,
   "metadata": {},
   "outputs": [
    {
     "name": "stdout",
     "output_type": "stream",
     "text": [
      "Enter name of city ? london\n",
      "Humidity :  71\n",
      "Atmosphere :  Clouds\n",
      "Country :  GB\n"
     ]
    }
   ],
   "source": [
    "place = input(\"Enter name of city ? \")\n",
    "url = f\"https://api.openweathermap.org/data/2.5/weather?q={place}&appid={token}\"\n",
    "data = requests.get(url)\n",
    "data = data.json()\n",
    "#print(data)\n",
    "print(\"Humidity : \",data['main']['humidity'])\n",
    "print(\"Atmosphere : \",data['weather'][0]['main'])\n",
    "print(\"Country : \",data['sys']['country'])"
   ]
  },
  {
   "cell_type": "code",
   "execution_count": null,
   "metadata": {},
   "outputs": [],
   "source": []
  }
 ],
 "metadata": {
  "kernelspec": {
   "display_name": "Python 3",
   "language": "python",
   "name": "python3"
  },
  "language_info": {
   "codemirror_mode": {
    "name": "ipython",
    "version": 3
   },
   "file_extension": ".py",
   "mimetype": "text/x-python",
   "name": "python",
   "nbconvert_exporter": "python",
   "pygments_lexer": "ipython3",
   "version": "3.7.4"
  }
 },
 "nbformat": 4,
 "nbformat_minor": 2
}
